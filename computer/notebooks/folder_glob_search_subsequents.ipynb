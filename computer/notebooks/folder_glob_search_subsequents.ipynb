{
 "cells": [
  {
   "cell_type": "code",
   "execution_count": 1,
   "metadata": {
    "collapsed": true
   },
   "outputs": [],
   "source": [
    "import glob\n",
    "import numpy as np\n",
    "from collections import deque\n",
    "from tqdm import tqdm"
   ]
  },
  {
   "cell_type": "code",
   "execution_count": 2,
   "metadata": {},
   "outputs": [],
   "source": [
    "# glob for all saved images in their individual 'imgs_2016...' folders.\n",
    "originals = glob.glob('./imgs_2016*/*.jpg')\n",
    "for folder in originals:\n",
    "    print folder"
   ]
  },
  {
   "cell_type": "code",
   "execution_count": 5,
   "metadata": {},
   "outputs": [
    {
     "data": {
      "text/plain": [
       "2512"
      ]
     },
     "execution_count": 5,
     "metadata": {},
     "output_type": "execute_result"
    }
   ],
   "source": [
    "len(originals)"
   ]
  },
  {
   "cell_type": "code",
   "execution_count": 6,
   "metadata": {},
   "outputs": [
    {
     "name": "stdout",
     "output_type": "stream",
     "text": [
      "./imgs_20161024_201843/label_array_ORIGINALS.npz\n",
      "./imgs_20161024_203956/label_array_ORIGINALS.npz\n",
      "./imgs_20161024_205205/label_array_ORIGINALS.npz\n",
      "./imgs_20161024_210342/label_array_ORIGINALS.npz\n",
      "./imgs_20161024_213033/label_array_ORIGINALS.npz\n",
      "./imgs_20161024_213758/label_array_ORIGINALS.npz\n",
      "./imgs_20161024_214826/label_array_ORIGINALS.npz\n",
      "./imgs_20161024_215723/label_array_ORIGINALS.npz\n",
      "./imgs_20161024_220400/label_array_ORIGINALS.npz\n",
      "./imgs_20161024_221046/label_array_ORIGINALS.npz\n",
      "./imgs_20161024_221817/label_array_ORIGINALS.npz\n",
      "./imgs_20161024_222638/label_array_ORIGINALS.npz\n",
      "./imgs_20161024_223408/label_array_ORIGINALS.npz\n",
      "./imgs_20161024_224114/label_array_ORIGINALS.npz\n",
      "./imgs_20161024_224955/label_array_ORIGINALS.npz\n",
      "./imgs_20161024_225859/label_array_ORIGINALS.npz\n"
     ]
    }
   ],
   "source": [
    "# glob for all saved label_arrays in their individual 'imgs_2016...' folders.\n",
    "originals = glob.glob('./imgs_2016*/label_array_ORIGINALS.npz')\n",
    "for npz in originals:\n",
    "    print npz"
   ]
  },
  {
   "cell_type": "code",
   "execution_count": 7,
   "metadata": {},
   "outputs": [
    {
     "name": "stdout",
     "output_type": "stream",
     "text": [
      "16\n"
     ]
    }
   ],
   "source": [
    "len(originals)"
   ]
  },
  {
   "cell_type": "code",
   "execution_count": 45,
   "metadata": {
    "scrolled": true
   },
   "outputs": [
    {
     "name": "stderr",
     "output_type": "stream",
     "text": [
      " 22%|██▏       | 7/32 [00:00<00:00, 53.65it/s]"
     ]
    },
    {
     "name": "stdout",
     "output_type": "stream",
     "text": [
      "Original Labels dims:  (140, 3)\n",
      "Original Labels dims:  (150, 3)\n",
      "Original Labels dims:  (153, 3)\n",
      "Original Labels dims:  (155, 3)\n",
      "Original Labels dims:  (157, 3)\n",
      "Original Labels dims:  (158, 3)\n",
      "Original Labels dims:  (155, 3)\n",
      "Original Labels dims:  (160, 3)\n",
      "Original Labels dims:  (164, 3)\n",
      "Original Labels dims:  (157, 3)\n"
     ]
    },
    {
     "name": "stderr",
     "output_type": "stream",
     "text": [
      " 44%|████▍     | 14/32 [00:00<00:00, 34.49it/s]"
     ]
    },
    {
     "name": "stdout",
     "output_type": "stream",
     "text": [
      "Original Labels dims:  (160, 3)\n",
      "Original Labels dims:  (161, 3)\n",
      "Original Labels dims:  (160, 3)\n",
      "Original Labels dims:  (160, 3)\n",
      "Original Labels dims:  (162, 3)\n"
     ]
    },
    {
     "name": "stderr",
     "output_type": "stream",
     "text": [
      "\r",
      " 53%|█████▎    | 17/32 [00:00<00:00, 26.78it/s]"
     ]
    },
    {
     "name": "stdout",
     "output_type": "stream",
     "text": [
      "Original Labels dims:  (160, 3)\n",
      "Original Labels dims:  (161, 3)\n",
      "Original Labels dims:  (166, 3)\n",
      "Original Labels dims:  (170, 3)\n"
     ]
    },
    {
     "name": "stderr",
     "output_type": "stream",
     "text": [
      "\r",
      " 62%|██████▎   | 20/32 [00:00<00:00, 20.89it/s]"
     ]
    },
    {
     "name": "stdout",
     "output_type": "stream",
     "text": [
      "Original Labels dims:  (163, 3)\n",
      "Original Labels dims:  (161, 3)\n",
      "Original Labels dims:  (160, 3)\n"
     ]
    },
    {
     "name": "stderr",
     "output_type": "stream",
     "text": [
      " 75%|███████▌  | 24/32 [00:01<00:00, 15.21it/s]"
     ]
    },
    {
     "name": "stdout",
     "output_type": "stream",
     "text": [
      "Original Labels dims:  (168, 3)\n",
      "Original Labels dims:  (167, 3)\n",
      "Original Labels dims:  (170, 3)\n"
     ]
    },
    {
     "name": "stderr",
     "output_type": "stream",
     "text": [
      "\r",
      " 81%|████████▏ | 26/32 [00:01<00:00, 12.59it/s]"
     ]
    },
    {
     "name": "stdout",
     "output_type": "stream",
     "text": [
      "Original Labels dims:  (170, 3)\n",
      "Original Labels dims:  (170, 3)\n"
     ]
    },
    {
     "name": "stderr",
     "output_type": "stream",
     "text": [
      "\r",
      " 88%|████████▊ | 28/32 [00:01<00:00,  8.30it/s]"
     ]
    },
    {
     "name": "stdout",
     "output_type": "stream",
     "text": [
      "Original Labels dims:  (171, 3)\n",
      "Original Labels dims:  (170, 3)\n"
     ]
    },
    {
     "name": "stderr",
     "output_type": "stream",
     "text": [
      "\r",
      " 94%|█████████▍| 30/32 [00:02<00:00,  8.29it/s]"
     ]
    },
    {
     "name": "stdout",
     "output_type": "stream",
     "text": [
      "Original Labels dims:  (170, 3)\n",
      "Original Labels dims:  (170, 3)\n"
     ]
    },
    {
     "name": "stderr",
     "output_type": "stream",
     "text": [
      "100%|██████████| 32/32 [00:02<00:00,  6.82it/s]"
     ]
    },
    {
     "name": "stdout",
     "output_type": "stream",
     "text": [
      "Original Labels dims:  (175, 3)\n",
      "<type 'numpy.ndarray'>\n",
      "Final label_array dims: (31165, 3)\n",
      "Final label_array: [[ 0.  0.  0.]\n",
      " [ 0.  0.  1.]\n",
      " [ 0.  0.  1.]\n",
      " ..., \n",
      " [ 0.  0.  1.]\n",
      " [ 0.  0.  1.]\n",
      " [ 0.  0.  1.]]\n"
     ]
    },
    {
     "name": "stderr",
     "output_type": "stream",
     "text": [
      "\n"
     ]
    }
   ],
   "source": [
    "# label_array starts off as one row of zeros. As items are added, they are vstacked from below.\n",
    "label_array = np.zeros((1, 3), 'float')\n",
    "n=3\n",
    "\n",
    "# rows_updated = 0\n",
    "# success_count = 0\n",
    "\n",
    "\n",
    "training_data_labels = glob.glob('./images/imgs_2016*/label_array_ORIGINALS.npz')\n",
    "\n",
    "for single_npz in tqdm(training_data_labels):\n",
    "\n",
    "    with np.load(single_npz) as data:\n",
    "        \n",
    "        # ORIGINAL LABELS\n",
    "        labels = data.f.train_labels\n",
    "        original_labels_shape = labels.shape\n",
    "        print 'Original Labels dims: ', labels.shape\n",
    "        \n",
    "        array_list = labels.tolist()\n",
    "#         print len(array_list)\n",
    "        \n",
    "        # This 'final' empty list will only be used when augment=False\n",
    "        final = []\n",
    "\n",
    "        # For each original label...\n",
    "        for row in array_list:\n",
    "\n",
    "####        if augment: (THIS IS THE PATH FOLLOWED IF augment=True)\n",
    "            # make temporary deque()\n",
    "            temp_list = []\n",
    "\n",
    "            # for self.n times, add ORIGINAL LABEL to deque\n",
    "            for i in xrange(n):\n",
    "                temp_list.append(row)\n",
    "\n",
    "            # for self.n times, add FLIPPED LABEL to deque\n",
    "            for i in xrange(n):\n",
    "\n",
    "                # Forward-Left becomes Forward-Right, append\n",
    "                if row[0] == 1:\n",
    "                    temp_list.append([0.0, 1.0, 0.0])\n",
    "\n",
    "                # Forward-Right becomes Forward-Left, append\n",
    "                elif row[1] == 1:\n",
    "                    temp_list.append([1.0, 0.0, 0.0])\n",
    "\n",
    "                # Forward remains as Forward, append\n",
    "                elif row[2] == 1:\n",
    "                    temp_list.append([0.0, 0.0, 1.0])\n",
    "                    continue\n",
    "\n",
    "            temp_deque = deque(temp_list)\n",
    "\n",
    "\n",
    "\n",
    "# # POOR MAN'S UNIT TEST\n",
    "#             # Forward stays Forward\n",
    "#             if temp_list[0:3] == [[0.0, 0.0, 1.0], [0.0, 0.0, 1.0], [0.0, 0.0, 1.0]] \\\n",
    "#                 and temp_list[3:6] == [[0.0, 0.0, 1.0], [0.0, 0.0, 1.0], [0.0, 0.0, 1.0]] :\n",
    "#                 success_count += 1\n",
    "                \n",
    "#             # Right goes to Left\n",
    "#             elif temp_list[0:3] == [[0.0, 1.0, 0.0], [0.0, 1.0, 0.0], [0.0, 1.0, 0.0]] \\\n",
    "#                 and temp_list[3:6] == [[1.0, 0.0, 0.0], [1.0, 0.0, 0.0], [1.0, 0.0, 0.0]] :\n",
    "#                 success_count += 1\n",
    "            \n",
    "#             # Left goes to Right\n",
    "#             elif temp_list[0:3] == [[1.0, 0.0, 0.0], [1.0, 0.0, 0.0], [1.0, 0.0, 0.0]] \\\n",
    "#                 and temp_list[3:6] == [[0.0, 1.0, 0.0], [0.0, 1.0, 0.0], [0.0, 1.0, 0.0]] :\n",
    "#                 success_count += 1\n",
    "        \n",
    "#             rows_updated += 1\n",
    "#             print 'temp_list',temp_list\n",
    "#             print temp_deque\n",
    "#             print ''\n",
    "# print 'Total # rows updated:', rows_updated\n",
    "# print 'Total # successes:', success_count\n",
    "# print 'Success rate:', float(success_count/rows_updated)*100, '%'\n",
    "# # END: POOR MAN'S UNIT TEST\n",
    "            \n",
    "#             print len(temp_deque)\n",
    "#             print temp_deque.popleft()\n",
    "#             print temp_deque.pop()\n",
    "#             print len(temp_deque)\n",
    "\n",
    "\n",
    "\n",
    "            # vstack to label_array, popping left and right, for as long as temp_deque has something in it to pop.\n",
    "            for i in xrange(n):\n",
    "                left  = temp_deque.popleft()\n",
    "                right = temp_deque.pop()\n",
    "                label_array = np.vstack((label_array, left))\n",
    "                label_array = np.vstack((label_array, right))\n",
    "\n",
    "\n",
    "print type(label_array)                \n",
    "print 'Final label_array dims:', label_array.shape\n",
    "print 'Final label_array:', label_array\n",
    "            \n",
    "            "
   ]
  },
  {
   "cell_type": "code",
   "execution_count": null,
   "metadata": {
    "collapsed": true
   },
   "outputs": [],
   "source": []
  }
 ],
 "metadata": {
  "kernelspec": {
   "display_name": "Python 2",
   "language": "python",
   "name": "python2"
  },
  "language_info": {
   "codemirror_mode": {
    "name": "ipython",
    "version": 2
   },
   "file_extension": ".py",
   "mimetype": "text/x-python",
   "name": "python",
   "nbconvert_exporter": "python",
   "pygments_lexer": "ipython2",
   "version": "2.7.6"
  }
 },
 "nbformat": 4,
 "nbformat_minor": 1
}
